{
 "cells": [
  {
   "cell_type": "markdown",
   "metadata": {},
   "source": [
    "This is the first assignment for the Coursera course \"Advanced Machine Learning and Signal Processing\"\n",
    "\n",
    "Just execute all cells one after the other and you are done - just note that in the last one you have to update your email address (the one you've used for coursera) and obtain a submission token, you get this from the programming assignment directly on coursera."
   ]
  },
  {
   "cell_type": "markdown",
   "metadata": {},
   "source": [
    "This notebook is designed to run in a IBM Watson Studio default runtime (NOT the Watson Studio Apache Spark Runtime as the default runtime with 1 vCPU is free of charge). Therefore, we install Apache Spark in local mode for test purposes only. Please don't use it in production.\n",
    "\n",
    "In case you are facing issues, please read the following two documents first:\n",
    "\n",
    "https://github.com/IBM/skillsnetwork/wiki/Environment-Setup\n",
    "\n",
    "https://github.com/IBM/skillsnetwork/wiki/FAQ\n",
    "\n",
    "Then, please feel free to ask:\n",
    "\n",
    "https://coursera.org/learn/machine-learning-big-data-apache-spark/discussions/all\n",
    "\n",
    "Please make sure to follow the guidelines before asking a question:\n",
    "\n",
    "https://github.com/IBM/skillsnetwork/wiki/FAQ#im-feeling-lost-and-confused-please-help-me\n",
    "\n",
    "\n",
    "If running outside Watson Studio, this should work as well. In case you are running in an Apache Spark context outside Watson Studio, please remove the Apache Spark setup in the first notebook cells."
   ]
  },
  {
   "cell_type": "code",
   "execution_count": 1,
   "metadata": {},
   "outputs": [],
   "source": [
    "from IPython.display import Markdown, display\n",
    "def printmd(string):\n",
    "    display(Markdown('# <span style=\"color:red\">'+string+'</span>'))\n",
    "\n",
    "\n",
    "if ('sc' in locals() or 'sc' in globals()):\n",
    "    printmd('<<<<<!!!!! It seems that you are running in a IBM Watson Studio Apache Spark Notebook. Please run it in an IBM Watson Studio Default Runtime (without Apache Spark) !!!!!>>>>>')\n"
   ]
  },
  {
   "cell_type": "code",
   "execution_count": 2,
   "metadata": {},
   "outputs": [
    {
     "name": "stdout",
     "output_type": "stream",
     "text": [
      "Collecting pyspark==2.4.5\n",
      "\u001b[?25l  Downloading https://files.pythonhosted.org/packages/9a/5a/271c416c1c2185b6cb0151b29a91fff6fcaed80173c8584ff6d20e46b465/pyspark-2.4.5.tar.gz (217.8MB)\n",
      "\u001b[K     |████████████████████████████████| 217.8MB 15kB/s  eta 0:00:013                             | 3.1MB 6.5MB/s eta 0:00:34     |██▏                             | 14.8MB 23.0MB/s eta 0:00:09     |████▎                           | 29.1MB 23.0MB/s eta 0:00:09     |██████▎                         | 43.0MB 19.3MB/s eta 0:00:10     |██████▉                         | 46.6MB 3.4MB/s eta 0:00:51     |███████▋                        | 51.5MB 3.4MB/s eta 0:00:49     |█████████                       | 61.3MB 11.1MB/s eta 0:00:15MB/s eta 0:00:21��██████                    | 82.3MB 6.7MB/s eta 0:00:21��████▉                   | 87.4MB 6.7MB/s eta 0:00:20████▎                | 103.9MB 3.0MB/s eta 0:00:39     |███████████████▋                | 105.9MB 3.0MB/s eta 0:00:380MB/s eta 0:00:38     |████████████████▎               | 110.5MB 3.0MB/s eta 0:00:37     |████████████████▎               | 111.1MB 3.0MB/s eta 0:00:36�██████████████▉               | 114.3MB 2.5MB/s eta 0:00:42█████████████████               | 115.8MB 2.5MB/s eta 0:00:41��█████████████               | 116.2MB 2.5MB/s eta 0:00:41��██████▍              | 118.7MB 6.5MB/s eta 0:00:16��██████▋              | 119.8MB 6.5MB/s eta 0:00:16     |█████████████████▊              | 120.8MB 6.5MB/s eta 0:00:15    | 121.6MB 6.5MB/s eta 0:00:15��████████▏             | 123.6MB 6.5MB/s eta 0:00:15| 129.6MB 37.7MB/s eta 0:00:03MB/s eta 0:00:03  | 133.1MB 37.7MB/s eta 0:00:03MB/s eta 0:00:03[K     |████████████████████            | 135.6MB 1.3MB/s eta 0:01:05[K     |████████████████████            | 136.7MB 1.3MB/s eta 0:01:04     |████████████████████            | 136.8MB 1.3MB/s eta 0:01:04     | 137.5MB 1.3MB/s eta 0:01:04�████████▎           | 137.7MB 855kB/s eta 0:01:34     | 140.9MB 855kB/s eta 0:01:30�████████▉           | 141.6MB 1.4MB/s eta 0:00:54     | 143.5MB 1.4MB/s eta 0:00:539.4MB 5.8MB/s eta 0:00:12     |██████████████████████▊         | 154.6MB 3.1MB/s eta 0:00:21��██████████████████████         | 156.0MB 6.3MB/s eta 0:00:10███████████████████         | 156.1MB 6.3MB/s eta 0:00:10██▎        | 158.5MB 6.3MB/s eta 0:00:10██▌        | 160.1MB 6.3MB/s eta 0:00:10��█████████▌        | 160.3MB 6.3MB/s eta 0:00:10�█████████████████▋        | 160.5MB 6.3MB/s eta 0:00:10██▊        | 161.8MB 2.1MB/s eta 0:00:28     |████████████████████████▍       | 166.1MB 2.1MB/s eta 0:00:26██████▌       | 167.0MB 2.0MB/s eta 0:00:26��███▋       | 167.4MB 2.0MB/s eta 0:00:26██████▋       | 167.7MB 2.0MB/s eta 0:00:26██████▊       | 168.6MB 2.0MB/s eta 0:00:26  |████████████████████████▉       | 168.7MB 2.0MB/s eta 0:00:25��██████████████████████▉       | 169.1MB 2.0MB/s eta 0:00:25�█▉       | 169.2MB 2.0MB/s eta 0:00:25�█████████████████████       | 169.4MB 2.0MB/s eta 0:00:25       | 169.6MB 2.0MB/s eta 0:00:25███████████████████       | 169.8MB 576kB/s eta 0:01:24| 169.9MB 576kB/s eta 0:01:24B/s eta 0:01:22��█████████████████▎      | 171.9MB 576kB/s eta 0:01:20172.3MB 576kB/s eta 0:01:20    |█████████████████████████▎      | 172.4MB 576kB/s eta 0:01:19████████████████▍      | 172.6MB 576kB/s eta 0:01:19MB 576kB/s eta 0:01:18███████▉      | 175.8MB 1.1MB/s eta 0:00:39████████      | 177.1MB 900kB/s eta 0:00:46    |██████████████████████████      | 177.4MB 900kB/s eta 0:00:45     |██████████████████████████▋     | 181.1MB 7.3MB/s eta 0:00:06   | 185.7MB 2.8MB/s eta 0:00:12�█████████▎    | 185.9MB 2.8MB/s eta 0:00:12████████████████████▎    | 186.1MB 2.8MB/s eta 0:00:12�█████████▋    | 187.6MB 2.8MB/s eta 0:00:111�█████████▉    | 189.3MB 1.4MB/s eta 0:00:211��█████████▋   | 194.7MB 1.4MB/s eta 0:00:17     |█████████████████████████████▏  | 198.6MB 3.5MB/s eta 0:00:06��███████▏  | 198.9MB 3.5MB/s eta 0:00:06��████████████████████▎  | 199.3MB 3.5MB/s eta 0:00:06��████████████████████▍  | 200.4MB 3.5MB/s eta 0:00:06█████████▌  | 200.5MB 3.5MB/s eta 0:00:06|█████████████████████████████▌  | 200.9MB 3.5MB/s eta 0:00:05██████▌  | 201.2MB 1.3MB/s eta 0:00:13�██████████████████████████▋  | 201.5MB 1.3MB/s eta 0:00:13███▋  | 201.8MB 1.3MB/s eta 0:00:13��████████████████████▉  | 203.3MB 1.3MB/s eta 0:00:11��█████████████████████  | 204.8MB 1.3MB/s eta 0:00:10    |██████████████████████████████▍ | 206.5MB 1.3MB/s eta 0:00:09�████████████████████████████▍ | 206.8MB 1.3MB/s eta 0:00:09██████████████████████████████▋ | 208.4MB 1.3MB/s eta 0:00:08��█████████████████████▊ | 209.2MB 5.7MB/s eta 0:00:02    |██████████████████████████████▉ | 209.9MB 5.7MB/s eta 0:00:02    |███████████████████████████████ | 211.2MB 5.7MB/s eta 0:00:02�█████████████████████████████ | 211.5MB 5.7MB/s eta 0:00:02��██████████████████████████▏| 211.8MB 5.7MB/s eta 0:00:02212.1MB 5.7MB/s eta 0:00:02��██████▏| 212.2MB 5.7MB/s eta 0:00:013.7MB 5.7MB/s eta 0:00:01██████▍| 213.8MB 5.7MB/s eta 0:00:01     |███████████████████████████████▋| 215.1MB 5.7MB/s eta 0:00:01��████▋| 215.4MB 872kB/s eta 0:00:03█████████████▋| 215.5MB 872kB/s eta 0:00:03��█████████████████████████████▊| 215.8MB 872kB/s eta 0:00:03�█▊| 216.1MB 872kB/s eta 0:00:02███████| 217.5MB 872kB/s eta 0:00:01��███████████████████████| 217.8MB 872kB/s eta 0:00:01\n",
      "\u001b[?25hCollecting py4j==0.10.7 (from pyspark==2.4.5)\n",
      "\u001b[?25l  Downloading https://files.pythonhosted.org/packages/e3/53/c737818eb9a7dc32a7cd4f1396e787bd94200c3997c72c1dbe028587bd76/py4j-0.10.7-py2.py3-none-any.whl (197kB)\n",
      "\u001b[K     |████████████████████████████████| 204kB 10.2MB/s eta 0:00:0110.2MB/s \n",
      "\u001b[?25hBuilding wheels for collected packages: pyspark\n",
      "  Building wheel for pyspark (setup.py) ... \u001b[?25ldone\n",
      "\u001b[?25h  Stored in directory: /home/dsxuser/.cache/pip/wheels/bf/db/04/61d66a5939364e756eb1c1be4ec5bdce6e04047fc7929a3c3c\n",
      "Successfully built pyspark\n",
      "Installing collected packages: py4j, pyspark\n",
      "Successfully installed py4j-0.10.7 pyspark-2.4.5\n"
     ]
    }
   ],
   "source": [
    "!pip install pyspark==2.4.5"
   ]
  },
  {
   "cell_type": "code",
   "execution_count": 3,
   "metadata": {},
   "outputs": [],
   "source": [
    "try:\n",
    "    from pyspark import SparkContext, SparkConf\n",
    "    from pyspark.sql import SparkSession\n",
    "except ImportError as e:\n",
    "    printmd('<<<<<!!!!! Please restart your kernel after installing Apache Spark !!!!!>>>>>')"
   ]
  },
  {
   "cell_type": "code",
   "execution_count": 4,
   "metadata": {},
   "outputs": [],
   "source": [
    "sc = SparkContext.getOrCreate(SparkConf().setMaster(\"local[*]\"))\n",
    "\n",
    "spark = SparkSession \\\n",
    "    .builder \\\n",
    "    .getOrCreate()"
   ]
  },
  {
   "cell_type": "code",
   "execution_count": 5,
   "metadata": {},
   "outputs": [
    {
     "name": "stdout",
     "output_type": "stream",
     "text": [
      "--2020-08-23 23:05:57--  https://github.com/IBM/coursera/raw/master/coursera_ml/a2.parquet\n",
      "Resolving github.com (github.com)... 140.82.113.4\n",
      "Connecting to github.com (github.com)|140.82.113.4|:443... connected.\n",
      "HTTP request sent, awaiting response... 301 Moved Permanently\n",
      "Location: https://github.com/IBM/skillsnetwork/raw/master/coursera_ml/a2.parquet [following]\n",
      "--2020-08-23 23:05:57--  https://github.com/IBM/skillsnetwork/raw/master/coursera_ml/a2.parquet\n",
      "Reusing existing connection to github.com:443.\n",
      "HTTP request sent, awaiting response... 302 Found\n",
      "Location: https://raw.githubusercontent.com/IBM/skillsnetwork/master/coursera_ml/a2.parquet [following]\n",
      "--2020-08-23 23:05:57--  https://raw.githubusercontent.com/IBM/skillsnetwork/master/coursera_ml/a2.parquet\n",
      "Resolving raw.githubusercontent.com (raw.githubusercontent.com)... 151.101.48.133\n",
      "Connecting to raw.githubusercontent.com (raw.githubusercontent.com)|151.101.48.133|:443... connected.\n",
      "HTTP request sent, awaiting response... 200 OK\n",
      "Length: 59032 (58K) [application/octet-stream]\n",
      "Saving to: ‘a2.parquet’\n",
      "\n",
      "100%[======================================>] 59,032      --.-K/s   in 0.004s  \n",
      "\n",
      "2020-08-23 23:05:58 (15.8 MB/s) - ‘a2.parquet’ saved [59032/59032]\n",
      "\n"
     ]
    }
   ],
   "source": [
    "!wget https://github.com/IBM/coursera/raw/master/coursera_ml/a2.parquet"
   ]
  },
  {
   "cell_type": "code",
   "execution_count": 6,
   "metadata": {},
   "outputs": [
    {
     "name": "stdout",
     "output_type": "stream",
     "text": [
      "+-----+-----------+-------------------+-------------------+-------------------+\n",
      "|CLASS|   SENSORID|                  X|                  Y|                  Z|\n",
      "+-----+-----------+-------------------+-------------------+-------------------+\n",
      "|    0|         26| 380.66434005495194| -139.3470983812975|-247.93697521077704|\n",
      "|    0|         29| 104.74324299209692| -32.27421440203938|-25.105013725863852|\n",
      "|    0| 8589934658| 118.11469236129976| 45.916682927433534| -87.97203782706572|\n",
      "|    0|34359738398| 246.55394030642543|-0.6122810693132044|-398.18662513951506|\n",
      "|    0|17179869241|-190.32584900181487|  234.7849657520335|-206.34483804019288|\n",
      "|    0|25769803830| 178.62396382387422| -47.07529438881511|  84.38310769821979|\n",
      "|    0|25769803831|  85.03128805189493|-4.3024316644854546|-1.1841857567516714|\n",
      "|    0|34359738411| 26.786262674736566| -46.33193951911338| 20.880756008396055|\n",
      "|    0| 8589934592|-16.203752396859194| 51.080957032176954| -96.80526656416971|\n",
      "|    0|25769803852|   47.2048142440404|  -78.2950899652916| 181.99604091494786|\n",
      "|    0|34359738369| 15.608872398939273| -79.90322809181754|  69.62150711098005|\n",
      "|    0|         19|-4.8281721129789315| -67.38050508399905| 221.24876396496404|\n",
      "|    0|         54| -98.40725712852762|-19.989364074314732|  -302.695196085276|\n",
      "|    0|17179869313| 22.835845394816594|   17.1633660118843| 32.877914832011385|\n",
      "|    0|34359738454|  84.20178070080324| -32.81572075916947| -48.63517643958031|\n",
      "|    0|          0|  56.54732521345129| -7.980106018032676|  95.05162719436447|\n",
      "|    0|17179869201|  -57.6008655247749|  5.135393798773895| 236.99158698947267|\n",
      "|    0|17179869308| -65.59264738389012| -48.92660057215126| -61.58970715383383|\n",
      "|    0|25769803790|  34.82337351291005|  9.483542084393937|  197.6066372962772|\n",
      "|    0|25769803825|  39.80573823439121|-0.7955236412785212| -79.66652640650325|\n",
      "+-----+-----------+-------------------+-------------------+-------------------+\n",
      "only showing top 20 rows\n",
      "\n"
     ]
    }
   ],
   "source": [
    "df=spark.read.load('a2.parquet')\n",
    "\n",
    "df.createOrReplaceTempView(\"df\")\n",
    "spark.sql(\"SELECT * from df\").show()\n"
   ]
  },
  {
   "cell_type": "code",
   "execution_count": 7,
   "metadata": {},
   "outputs": [],
   "source": [
    "!rm -Rf a2_m1.json"
   ]
  },
  {
   "cell_type": "code",
   "execution_count": 8,
   "metadata": {},
   "outputs": [],
   "source": [
    "df = df.repartition(1)\n",
    "df.write.json('a2_m1.json')"
   ]
  },
  {
   "cell_type": "code",
   "execution_count": 9,
   "metadata": {},
   "outputs": [
    {
     "name": "stdout",
     "output_type": "stream",
     "text": [
      "--2020-08-23 23:06:57--  https://raw.githubusercontent.com/IBM/coursera/master/rklib.py\n",
      "Resolving raw.githubusercontent.com (raw.githubusercontent.com)... 199.232.8.133\n",
      "Connecting to raw.githubusercontent.com (raw.githubusercontent.com)|199.232.8.133|:443... connected.\n",
      "HTTP request sent, awaiting response... 200 OK\n",
      "Length: 2540 (2.5K) [text/plain]\n",
      "Saving to: ‘rklib.py’\n",
      "\n",
      "100%[======================================>] 2,540       --.-K/s   in 0.001s  \n",
      "\n",
      "2020-08-23 23:06:58 (2.53 MB/s) - ‘rklib.py’ saved [2540/2540]\n",
      "\n"
     ]
    }
   ],
   "source": [
    "!rm -f rklib.py\n",
    "!wget https://raw.githubusercontent.com/IBM/coursera/master/rklib.py"
   ]
  },
  {
   "cell_type": "code",
   "execution_count": 10,
   "metadata": {},
   "outputs": [],
   "source": [
    "import zipfile\n",
    "import os\n",
    "\n",
    "def zipdir(path, ziph):\n",
    "    for root, dirs, files in os.walk(path):\n",
    "        for file in files:\n",
    "            ziph.write(os.path.join(root, file))\n",
    "\n",
    "zipf = zipfile.ZipFile('a2_m1.json.zip', 'w', zipfile.ZIP_DEFLATED)\n",
    "zipdir('a2_m1.json', zipf)\n",
    "zipf.close()"
   ]
  },
  {
   "cell_type": "code",
   "execution_count": 11,
   "metadata": {},
   "outputs": [],
   "source": [
    "!base64 a2_m1.json.zip > a2_m1.json.zip.base64"
   ]
  },
  {
   "cell_type": "code",
   "execution_count": 12,
   "metadata": {},
   "outputs": [
    {
     "name": "stdout",
     "output_type": "stream",
     "text": [
      "Submission successful, please check on the coursera grader page for the status\n",
      "-------------------------\n",
      "{\"elements\":[{\"itemId\":\"O8C69\",\"id\":\"f_F-qCtuEei_fRLwaVDk3g~O8C69~eH3Of-WVEeqN3wooSPYweQ\",\"courseId\":\"f_F-qCtuEei_fRLwaVDk3g\"}],\"paging\":{},\"linked\":{}}\n",
      "-------------------------\n"
     ]
    }
   ],
   "source": [
    "from rklib import submit\n",
    "key = \"1injH2F0EeiLlRJ3eJKoXA\"\n",
    "part = \"wNLDt\"\n",
    "email = \"vijay.malkoti@gmail.com\"\n",
    "token = \"AhLPgSY4J99zjIet\" #(have a look here if you need more information on how to obtain the token https://youtu.be/GcDo0Rwe06U?t=276)\n",
    "\n",
    "with open('a2_m1.json.zip.base64', 'r') as myfile:\n",
    "    data=myfile.read()\n",
    "submit(email, token, key, part, [part], data)"
   ]
  },
  {
   "cell_type": "code",
   "execution_count": null,
   "metadata": {},
   "outputs": [],
   "source": []
  }
 ],
 "metadata": {
  "kernelspec": {
   "display_name": "Python 3.6",
   "language": "python",
   "name": "python3"
  },
  "language_info": {
   "codemirror_mode": {
    "name": "ipython",
    "version": 3
   },
   "file_extension": ".py",
   "mimetype": "text/x-python",
   "name": "python",
   "nbconvert_exporter": "python",
   "pygments_lexer": "ipython3",
   "version": "3.6.9"
  }
 },
 "nbformat": 4,
 "nbformat_minor": 4
}

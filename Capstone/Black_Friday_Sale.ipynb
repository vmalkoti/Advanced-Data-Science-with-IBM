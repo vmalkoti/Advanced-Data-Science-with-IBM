{
 "metadata": {
  "language_info": {
   "codemirror_mode": {
    "name": "ipython",
    "version": 3
   },
   "file_extension": ".py",
   "mimetype": "text/x-python",
   "name": "python",
   "nbconvert_exporter": "python",
   "pygments_lexer": "ipython3",
   "version": "3.8.2-final"
  },
  "orig_nbformat": 2,
  "kernelspec": {
   "name": "python3",
   "display_name": "Python 3"
  }
 },
 "nbformat": 4,
 "nbformat_minor": 2,
 "cells": [
  {
   "source": [
    "# Retail Sales Prediction "
   ],
   "cell_type": "markdown",
   "metadata": {}
  },
  {
   "source": [
    "## Project Summary\n",
    "\n",
    "This is the capstone project for Advanced Data Science With IBM specialization on Coursera (https://www.coursera.org/learn/advanced-data-science-capstone/home/welcome).\n",
    "\n",
    "This project demonstrates the technical skills gained in data science and machine learning technologies. This project uses:\n",
    "* Python 3.6+\n",
    "* Jupyter notebook environment\n",
    "* Libraries: \n",
    "  * Numerical - numpy, pandas\n",
    "  * Visualization - matplotlib, seaborn\n",
    "  * ML - Scikit-Learn\n",
    "  * NN - Keras, Tensorflow\n"
   ],
   "cell_type": "markdown",
   "metadata": {}
  },
  {
   "source": [
    "### Problem Statement\n",
    "A retail company wants to understand the customer purchase behaviour (specifically, purchase amount) against various products of different categories. They have shared purchase summary of various customers for selected high volume products from last month.\n",
    "The data set also contains customer demographics (age, gender, marital status, city_type, stay_in_current_city), product details (product_id and product category) and Total purchase_amount from last month.\n",
    "\n",
    "Now, they want to build a model to predict the purchase amount of customer against various products which will help them to create personalized offer for customers against different products.\n",
    "\n",
    "### Data Source\n",
    "https://datahack.analyticsvidhya.com/contest/black-friday/"
   ],
   "cell_type": "markdown",
   "metadata": {}
  },
  {
   "cell_type": "code",
   "execution_count": 3,
   "metadata": {},
   "outputs": [],
   "source": [
    "## imports\n",
    "\n",
    "import numpy as np\n",
    "import pandas as pd"
   ]
  },
  {
   "source": [
    "## Initial Data Exploration"
   ],
   "cell_type": "markdown",
   "metadata": {}
  },
  {
   "source": [
    "### Read data\n",
    "Read the data from input csv file"
   ],
   "cell_type": "markdown",
   "metadata": {}
  },
  {
   "cell_type": "code",
   "execution_count": 4,
   "metadata": {},
   "outputs": [
    {
     "output_type": "execute_result",
     "data": {
      "text/plain": "   User_ID Product_ID Gender   Age  Occupation City_Category  \\\n0  1000001  P00069042      F  0-17          10             A   \n1  1000001  P00248942      F  0-17          10             A   \n2  1000001  P00087842      F  0-17          10             A   \n3  1000001  P00085442      F  0-17          10             A   \n4  1000002  P00285442      M   55+          16             C   \n\n  Stay_In_Current_City_Years  Marital_Status  Product_Category_1  \\\n0                          2               0                   3   \n1                          2               0                   1   \n2                          2               0                  12   \n3                          2               0                  12   \n4                         4+               0                   8   \n\n   Product_Category_2  Product_Category_3  Purchase  \n0                 NaN                 NaN      8370  \n1                 6.0                14.0     15200  \n2                 NaN                 NaN      1422  \n3                14.0                 NaN      1057  \n4                 NaN                 NaN      7969  ",
      "text/html": "<div>\n<style scoped>\n    .dataframe tbody tr th:only-of-type {\n        vertical-align: middle;\n    }\n\n    .dataframe tbody tr th {\n        vertical-align: top;\n    }\n\n    .dataframe thead th {\n        text-align: right;\n    }\n</style>\n<table border=\"1\" class=\"dataframe\">\n  <thead>\n    <tr style=\"text-align: right;\">\n      <th></th>\n      <th>User_ID</th>\n      <th>Product_ID</th>\n      <th>Gender</th>\n      <th>Age</th>\n      <th>Occupation</th>\n      <th>City_Category</th>\n      <th>Stay_In_Current_City_Years</th>\n      <th>Marital_Status</th>\n      <th>Product_Category_1</th>\n      <th>Product_Category_2</th>\n      <th>Product_Category_3</th>\n      <th>Purchase</th>\n    </tr>\n  </thead>\n  <tbody>\n    <tr>\n      <th>0</th>\n      <td>1000001</td>\n      <td>P00069042</td>\n      <td>F</td>\n      <td>0-17</td>\n      <td>10</td>\n      <td>A</td>\n      <td>2</td>\n      <td>0</td>\n      <td>3</td>\n      <td>NaN</td>\n      <td>NaN</td>\n      <td>8370</td>\n    </tr>\n    <tr>\n      <th>1</th>\n      <td>1000001</td>\n      <td>P00248942</td>\n      <td>F</td>\n      <td>0-17</td>\n      <td>10</td>\n      <td>A</td>\n      <td>2</td>\n      <td>0</td>\n      <td>1</td>\n      <td>6.0</td>\n      <td>14.0</td>\n      <td>15200</td>\n    </tr>\n    <tr>\n      <th>2</th>\n      <td>1000001</td>\n      <td>P00087842</td>\n      <td>F</td>\n      <td>0-17</td>\n      <td>10</td>\n      <td>A</td>\n      <td>2</td>\n      <td>0</td>\n      <td>12</td>\n      <td>NaN</td>\n      <td>NaN</td>\n      <td>1422</td>\n    </tr>\n    <tr>\n      <th>3</th>\n      <td>1000001</td>\n      <td>P00085442</td>\n      <td>F</td>\n      <td>0-17</td>\n      <td>10</td>\n      <td>A</td>\n      <td>2</td>\n      <td>0</td>\n      <td>12</td>\n      <td>14.0</td>\n      <td>NaN</td>\n      <td>1057</td>\n    </tr>\n    <tr>\n      <th>4</th>\n      <td>1000002</td>\n      <td>P00285442</td>\n      <td>M</td>\n      <td>55+</td>\n      <td>16</td>\n      <td>C</td>\n      <td>4+</td>\n      <td>0</td>\n      <td>8</td>\n      <td>NaN</td>\n      <td>NaN</td>\n      <td>7969</td>\n    </tr>\n  </tbody>\n</table>\n</div>"
     },
     "metadata": {},
     "execution_count": 4
    }
   ],
   "source": [
    "train_df = pd.read_csv('./BFS/Dataset/train.csv')\n",
    "train_df.head()"
   ]
  },
  {
   "source": [
    "### Getting familiar with data\n",
    "Explore the data in the dataframe to identify cleanup and transformation needed later"
   ],
   "cell_type": "markdown",
   "metadata": {}
  },
  {
   "cell_type": "code",
   "execution_count": 5,
   "metadata": {
    "tags": []
   },
   "outputs": [
    {
     "output_type": "stream",
     "name": "stdout",
     "text": "<class 'pandas.core.frame.DataFrame'>\nRangeIndex: 550068 entries, 0 to 550067\nData columns (total 12 columns):\n #   Column                      Non-Null Count   Dtype  \n---  ------                      --------------   -----  \n 0   User_ID                     550068 non-null  int64  \n 1   Product_ID                  550068 non-null  object \n 2   Gender                      550068 non-null  object \n 3   Age                         550068 non-null  object \n 4   Occupation                  550068 non-null  int64  \n 5   City_Category               550068 non-null  object \n 6   Stay_In_Current_City_Years  550068 non-null  object \n 7   Marital_Status              550068 non-null  int64  \n 8   Product_Category_1          550068 non-null  int64  \n 9   Product_Category_2          376430 non-null  float64\n 10  Product_Category_3          166821 non-null  float64\n 11  Purchase                    550068 non-null  int64  \ndtypes: float64(2), int64(5), object(5)\nmemory usage: 50.4+ MB\n"
    }
   ],
   "source": [
    "train_df.info()"
   ]
  },
  {
   "cell_type": "code",
   "execution_count": 6,
   "metadata": {},
   "outputs": [
    {
     "output_type": "execute_result",
     "data": {
      "text/plain": "       Product_ID  Gender     Age     Occupation City_Category  \\\ncount      550068  550068  550068  550068.000000        550068   \nunique       3631       2       7            NaN             3   \ntop     P00265242       M   26-35            NaN             B   \nfreq         1880  414259  219587            NaN        231173   \nmean          NaN     NaN     NaN       8.076707           NaN   \nstd           NaN     NaN     NaN       6.522660           NaN   \nmin           NaN     NaN     NaN       0.000000           NaN   \n25%           NaN     NaN     NaN       2.000000           NaN   \n50%           NaN     NaN     NaN       7.000000           NaN   \n75%           NaN     NaN     NaN      14.000000           NaN   \nmax           NaN     NaN     NaN      20.000000           NaN   \n\n       Stay_In_Current_City_Years  Marital_Status  Product_Category_1  \\\ncount                      550068   550068.000000       550068.000000   \nunique                          5             NaN                 NaN   \ntop                             1             NaN                 NaN   \nfreq                       193821             NaN                 NaN   \nmean                          NaN        0.409653            5.404270   \nstd                           NaN        0.491770            3.936211   \nmin                           NaN        0.000000            1.000000   \n25%                           NaN        0.000000            1.000000   \n50%                           NaN        0.000000            5.000000   \n75%                           NaN        1.000000            8.000000   \nmax                           NaN        1.000000           20.000000   \n\n        Product_Category_2  Product_Category_3       Purchase  \ncount        376430.000000       166821.000000  550068.000000  \nunique                 NaN                 NaN            NaN  \ntop                    NaN                 NaN            NaN  \nfreq                   NaN                 NaN            NaN  \nmean              9.842329           12.668243    9263.968713  \nstd               5.086590            4.125338    5023.065394  \nmin               2.000000            3.000000      12.000000  \n25%               5.000000            9.000000    5823.000000  \n50%               9.000000           14.000000    8047.000000  \n75%              15.000000           16.000000   12054.000000  \nmax              18.000000           18.000000   23961.000000  ",
      "text/html": "<div>\n<style scoped>\n    .dataframe tbody tr th:only-of-type {\n        vertical-align: middle;\n    }\n\n    .dataframe tbody tr th {\n        vertical-align: top;\n    }\n\n    .dataframe thead th {\n        text-align: right;\n    }\n</style>\n<table border=\"1\" class=\"dataframe\">\n  <thead>\n    <tr style=\"text-align: right;\">\n      <th></th>\n      <th>Product_ID</th>\n      <th>Gender</th>\n      <th>Age</th>\n      <th>Occupation</th>\n      <th>City_Category</th>\n      <th>Stay_In_Current_City_Years</th>\n      <th>Marital_Status</th>\n      <th>Product_Category_1</th>\n      <th>Product_Category_2</th>\n      <th>Product_Category_3</th>\n      <th>Purchase</th>\n    </tr>\n  </thead>\n  <tbody>\n    <tr>\n      <th>count</th>\n      <td>550068</td>\n      <td>550068</td>\n      <td>550068</td>\n      <td>550068.000000</td>\n      <td>550068</td>\n      <td>550068</td>\n      <td>550068.000000</td>\n      <td>550068.000000</td>\n      <td>376430.000000</td>\n      <td>166821.000000</td>\n      <td>550068.000000</td>\n    </tr>\n    <tr>\n      <th>unique</th>\n      <td>3631</td>\n      <td>2</td>\n      <td>7</td>\n      <td>NaN</td>\n      <td>3</td>\n      <td>5</td>\n      <td>NaN</td>\n      <td>NaN</td>\n      <td>NaN</td>\n      <td>NaN</td>\n      <td>NaN</td>\n    </tr>\n    <tr>\n      <th>top</th>\n      <td>P00265242</td>\n      <td>M</td>\n      <td>26-35</td>\n      <td>NaN</td>\n      <td>B</td>\n      <td>1</td>\n      <td>NaN</td>\n      <td>NaN</td>\n      <td>NaN</td>\n      <td>NaN</td>\n      <td>NaN</td>\n    </tr>\n    <tr>\n      <th>freq</th>\n      <td>1880</td>\n      <td>414259</td>\n      <td>219587</td>\n      <td>NaN</td>\n      <td>231173</td>\n      <td>193821</td>\n      <td>NaN</td>\n      <td>NaN</td>\n      <td>NaN</td>\n      <td>NaN</td>\n      <td>NaN</td>\n    </tr>\n    <tr>\n      <th>mean</th>\n      <td>NaN</td>\n      <td>NaN</td>\n      <td>NaN</td>\n      <td>8.076707</td>\n      <td>NaN</td>\n      <td>NaN</td>\n      <td>0.409653</td>\n      <td>5.404270</td>\n      <td>9.842329</td>\n      <td>12.668243</td>\n      <td>9263.968713</td>\n    </tr>\n    <tr>\n      <th>std</th>\n      <td>NaN</td>\n      <td>NaN</td>\n      <td>NaN</td>\n      <td>6.522660</td>\n      <td>NaN</td>\n      <td>NaN</td>\n      <td>0.491770</td>\n      <td>3.936211</td>\n      <td>5.086590</td>\n      <td>4.125338</td>\n      <td>5023.065394</td>\n    </tr>\n    <tr>\n      <th>min</th>\n      <td>NaN</td>\n      <td>NaN</td>\n      <td>NaN</td>\n      <td>0.000000</td>\n      <td>NaN</td>\n      <td>NaN</td>\n      <td>0.000000</td>\n      <td>1.000000</td>\n      <td>2.000000</td>\n      <td>3.000000</td>\n      <td>12.000000</td>\n    </tr>\n    <tr>\n      <th>25%</th>\n      <td>NaN</td>\n      <td>NaN</td>\n      <td>NaN</td>\n      <td>2.000000</td>\n      <td>NaN</td>\n      <td>NaN</td>\n      <td>0.000000</td>\n      <td>1.000000</td>\n      <td>5.000000</td>\n      <td>9.000000</td>\n      <td>5823.000000</td>\n    </tr>\n    <tr>\n      <th>50%</th>\n      <td>NaN</td>\n      <td>NaN</td>\n      <td>NaN</td>\n      <td>7.000000</td>\n      <td>NaN</td>\n      <td>NaN</td>\n      <td>0.000000</td>\n      <td>5.000000</td>\n      <td>9.000000</td>\n      <td>14.000000</td>\n      <td>8047.000000</td>\n    </tr>\n    <tr>\n      <th>75%</th>\n      <td>NaN</td>\n      <td>NaN</td>\n      <td>NaN</td>\n      <td>14.000000</td>\n      <td>NaN</td>\n      <td>NaN</td>\n      <td>1.000000</td>\n      <td>8.000000</td>\n      <td>15.000000</td>\n      <td>16.000000</td>\n      <td>12054.000000</td>\n    </tr>\n    <tr>\n      <th>max</th>\n      <td>NaN</td>\n      <td>NaN</td>\n      <td>NaN</td>\n      <td>20.000000</td>\n      <td>NaN</td>\n      <td>NaN</td>\n      <td>1.000000</td>\n      <td>20.000000</td>\n      <td>18.000000</td>\n      <td>18.000000</td>\n      <td>23961.000000</td>\n    </tr>\n  </tbody>\n</table>\n</div>"
     },
     "metadata": {},
     "execution_count": 6
    }
   ],
   "source": [
    "# Exclude User_ID from describe\n",
    "train_df.iloc[:,1:].describe(include='all')"
   ]
  },
  {
   "cell_type": "code",
   "execution_count": 7,
   "metadata": {
    "tags": []
   },
   "outputs": [
    {
     "output_type": "stream",
     "name": "stdout",
     "text": "Gender -> ['F' 'M']\nAge -> ['0-17' '55+' '26-35' '46-50' '51-55' '36-45' '18-25']\nOccupation -> [10 16 15  7 20  9  1 12 17  0  3  4 11  8 19  2 18  5 14 13  6]\nCity_Category -> ['A' 'C' 'B']\nStay_In_Current_City_Years -> ['2' '4+' '3' '1' '0']\nMarital_Status -> [0 1]\n"
    }
   ],
   "source": [
    "col_list = [\"Gender\", 'Age', 'Occupation', 'City_Category', 'Stay_In_Current_City_Years', 'Marital_Status']\n",
    "for col in col_list:\n",
    "    print(f'{col} -> {train_df[col].unique()}')"
   ]
  },
  {
   "cell_type": "code",
   "execution_count": 8,
   "metadata": {},
   "outputs": [
    {
     "output_type": "execute_result",
     "data": {
      "text/plain": "                     User_ID  Occupation  Marital_Status  Product_Category_1  \\\nUser_ID             1.000000   -0.023971        0.020443            0.003825   \nOccupation         -0.023971    1.000000        0.024280           -0.007618   \nMarital_Status      0.020443    0.024280        1.000000            0.019888   \nProduct_Category_1  0.003825   -0.007618        0.019888            1.000000   \nProduct_Category_2  0.001529   -0.000384        0.015138            0.540583   \nProduct_Category_3  0.003419    0.013263        0.019473            0.229678   \nPurchase            0.004716    0.020833       -0.000463           -0.343703   \n\n                    Product_Category_2  Product_Category_3  Purchase  \nUser_ID                       0.001529            0.003419  0.004716  \nOccupation                   -0.000384            0.013263  0.020833  \nMarital_Status                0.015138            0.019473 -0.000463  \nProduct_Category_1            0.540583            0.229678 -0.343703  \nProduct_Category_2            1.000000            0.543649 -0.209918  \nProduct_Category_3            0.543649            1.000000 -0.022006  \nPurchase                     -0.209918           -0.022006  1.000000  ",
      "text/html": "<div>\n<style scoped>\n    .dataframe tbody tr th:only-of-type {\n        vertical-align: middle;\n    }\n\n    .dataframe tbody tr th {\n        vertical-align: top;\n    }\n\n    .dataframe thead th {\n        text-align: right;\n    }\n</style>\n<table border=\"1\" class=\"dataframe\">\n  <thead>\n    <tr style=\"text-align: right;\">\n      <th></th>\n      <th>User_ID</th>\n      <th>Occupation</th>\n      <th>Marital_Status</th>\n      <th>Product_Category_1</th>\n      <th>Product_Category_2</th>\n      <th>Product_Category_3</th>\n      <th>Purchase</th>\n    </tr>\n  </thead>\n  <tbody>\n    <tr>\n      <th>User_ID</th>\n      <td>1.000000</td>\n      <td>-0.023971</td>\n      <td>0.020443</td>\n      <td>0.003825</td>\n      <td>0.001529</td>\n      <td>0.003419</td>\n      <td>0.004716</td>\n    </tr>\n    <tr>\n      <th>Occupation</th>\n      <td>-0.023971</td>\n      <td>1.000000</td>\n      <td>0.024280</td>\n      <td>-0.007618</td>\n      <td>-0.000384</td>\n      <td>0.013263</td>\n      <td>0.020833</td>\n    </tr>\n    <tr>\n      <th>Marital_Status</th>\n      <td>0.020443</td>\n      <td>0.024280</td>\n      <td>1.000000</td>\n      <td>0.019888</td>\n      <td>0.015138</td>\n      <td>0.019473</td>\n      <td>-0.000463</td>\n    </tr>\n    <tr>\n      <th>Product_Category_1</th>\n      <td>0.003825</td>\n      <td>-0.007618</td>\n      <td>0.019888</td>\n      <td>1.000000</td>\n      <td>0.540583</td>\n      <td>0.229678</td>\n      <td>-0.343703</td>\n    </tr>\n    <tr>\n      <th>Product_Category_2</th>\n      <td>0.001529</td>\n      <td>-0.000384</td>\n      <td>0.015138</td>\n      <td>0.540583</td>\n      <td>1.000000</td>\n      <td>0.543649</td>\n      <td>-0.209918</td>\n    </tr>\n    <tr>\n      <th>Product_Category_3</th>\n      <td>0.003419</td>\n      <td>0.013263</td>\n      <td>0.019473</td>\n      <td>0.229678</td>\n      <td>0.543649</td>\n      <td>1.000000</td>\n      <td>-0.022006</td>\n    </tr>\n    <tr>\n      <th>Purchase</th>\n      <td>0.004716</td>\n      <td>0.020833</td>\n      <td>-0.000463</td>\n      <td>-0.343703</td>\n      <td>-0.209918</td>\n      <td>-0.022006</td>\n      <td>1.000000</td>\n    </tr>\n  </tbody>\n</table>\n</div>"
     },
     "metadata": {},
     "execution_count": 8
    }
   ],
   "source": [
    "train_df.corr()  # will need to convert object columns to numeric to get them in correlation matrix"
   ]
  },
  {
   "cell_type": "code",
   "execution_count": 62,
   "metadata": {
    "tags": []
   },
   "outputs": [
    {
     "output_type": "execute_result",
     "data": {
      "text/plain": "         Num_Purchases  Avg_Purchase_Amt\nUser_ID                                 \n1001680           1026       8479.138402\n1004277            979      10762.930541\n1001941            898       7591.863029\n1001181            862       7410.627610\n1000889            823       6682.712029\n1003618            767       7773.157757\n1001150            752       6288.473404\n1001015            740       8799.072973\n1005795            729       7495.932785\n1005831            727       8957.954608\n1003902             94      18577.893617\n1005069             18      18490.166667\n1005999             18      18345.944444\n1001349             23      18162.739130\n1003461             20      17508.700000\n1000101             66      17246.439394\n1002983             31      16790.612903\n1005994             42      16787.071429\n1000592             14      16776.571429\n1004474             17      16639.941176",
      "text/html": "<div>\n<style scoped>\n    .dataframe tbody tr th:only-of-type {\n        vertical-align: middle;\n    }\n\n    .dataframe tbody tr th {\n        vertical-align: top;\n    }\n\n    .dataframe thead th {\n        text-align: right;\n    }\n</style>\n<table border=\"1\" class=\"dataframe\">\n  <thead>\n    <tr style=\"text-align: right;\">\n      <th></th>\n      <th>Num_Purchases</th>\n      <th>Avg_Purchase_Amt</th>\n    </tr>\n    <tr>\n      <th>User_ID</th>\n      <th></th>\n      <th></th>\n    </tr>\n  </thead>\n  <tbody>\n    <tr>\n      <th>1001680</th>\n      <td>1026</td>\n      <td>8479.138402</td>\n    </tr>\n    <tr>\n      <th>1004277</th>\n      <td>979</td>\n      <td>10762.930541</td>\n    </tr>\n    <tr>\n      <th>1001941</th>\n      <td>898</td>\n      <td>7591.863029</td>\n    </tr>\n    <tr>\n      <th>1001181</th>\n      <td>862</td>\n      <td>7410.627610</td>\n    </tr>\n    <tr>\n      <th>1000889</th>\n      <td>823</td>\n      <td>6682.712029</td>\n    </tr>\n    <tr>\n      <th>1003618</th>\n      <td>767</td>\n      <td>7773.157757</td>\n    </tr>\n    <tr>\n      <th>1001150</th>\n      <td>752</td>\n      <td>6288.473404</td>\n    </tr>\n    <tr>\n      <th>1001015</th>\n      <td>740</td>\n      <td>8799.072973</td>\n    </tr>\n    <tr>\n      <th>1005795</th>\n      <td>729</td>\n      <td>7495.932785</td>\n    </tr>\n    <tr>\n      <th>1005831</th>\n      <td>727</td>\n      <td>8957.954608</td>\n    </tr>\n    <tr>\n      <th>1003902</th>\n      <td>94</td>\n      <td>18577.893617</td>\n    </tr>\n    <tr>\n      <th>1005069</th>\n      <td>18</td>\n      <td>18490.166667</td>\n    </tr>\n    <tr>\n      <th>1005999</th>\n      <td>18</td>\n      <td>18345.944444</td>\n    </tr>\n    <tr>\n      <th>1001349</th>\n      <td>23</td>\n      <td>18162.739130</td>\n    </tr>\n    <tr>\n      <th>1003461</th>\n      <td>20</td>\n      <td>17508.700000</td>\n    </tr>\n    <tr>\n      <th>1000101</th>\n      <td>66</td>\n      <td>17246.439394</td>\n    </tr>\n    <tr>\n      <th>1002983</th>\n      <td>31</td>\n      <td>16790.612903</td>\n    </tr>\n    <tr>\n      <th>1005994</th>\n      <td>42</td>\n      <td>16787.071429</td>\n    </tr>\n    <tr>\n      <th>1000592</th>\n      <td>14</td>\n      <td>16776.571429</td>\n    </tr>\n    <tr>\n      <th>1004474</th>\n      <td>17</td>\n      <td>16639.941176</td>\n    </tr>\n  </tbody>\n</table>\n</div>"
     },
     "metadata": {},
     "execution_count": 62
    }
   ],
   "source": [
    "# Explore \n",
    "\n",
    "# top 10 customers - most number of purchases, most $ purchases\n",
    "top_users_1 = train_df[['User_ID', 'Product_ID']].groupby('User_ID', as_index=False).count().nlargest(10, 'Product_ID')\n",
    "top_users_2 = train_df[['User_ID', 'Purchase']].groupby('User_ID', as_index=False).mean().nlargest(10, 'Purchase')\n",
    "top_users_1, top_users_2\n",
    "\n",
    "top_users = (train_df[['User_ID', 'Purchase']]\n",
    "            .groupby('User_ID')\n",
    "            .agg(['count', 'mean'])\n",
    "            .rename(columns={'count':'Num_Purchases', 'mean':'Avg_Purchase_Amt'}))\n",
    "top_users.columns = top_users.columns.droplevel(0)\n",
    "pd.concat([top_users.nlargest(10, 'Num_Purchases'), top_users.nlargest(10, 'Avg_Purchase_Amt')])"
   ]
  },
  {
   "cell_type": "code",
   "execution_count": 67,
   "metadata": {},
   "outputs": [
    {
     "output_type": "execute_result",
     "data": {
      "text/plain": "            Num_Buyers  Avg_Purchase_Amt\nProduct_ID                              \nP00265242         1880       7534.848404\nP00025442         1615      17334.468111\nP00110742         1612      16577.114764\nP00112142         1562      15503.204866\nP00057642         1470      15716.176871\nP00184942         1440      16899.227083\nP00046742         1438      14709.931850\nP00058042         1422       8615.073136\nP00059442         1406      17310.343528\nP00145042         1406      14517.312945\nP00086242          273      21256.505495\nP00085342          552      20980.268116\nP00200642          269      20468.773234\nP00116142          642      20463.791277\nP00119342          308      20448.756494\nP00117642          395      20400.283544\nP00074542            1      20323.000000\nP00341542            1      20291.000000\nP00052842          982      20141.139511\nP00087042          240      20113.225000",
      "text/html": "<div>\n<style scoped>\n    .dataframe tbody tr th:only-of-type {\n        vertical-align: middle;\n    }\n\n    .dataframe tbody tr th {\n        vertical-align: top;\n    }\n\n    .dataframe thead th {\n        text-align: right;\n    }\n</style>\n<table border=\"1\" class=\"dataframe\">\n  <thead>\n    <tr style=\"text-align: right;\">\n      <th></th>\n      <th>Num_Buyers</th>\n      <th>Avg_Purchase_Amt</th>\n    </tr>\n    <tr>\n      <th>Product_ID</th>\n      <th></th>\n      <th></th>\n    </tr>\n  </thead>\n  <tbody>\n    <tr>\n      <th>P00265242</th>\n      <td>1880</td>\n      <td>7534.848404</td>\n    </tr>\n    <tr>\n      <th>P00025442</th>\n      <td>1615</td>\n      <td>17334.468111</td>\n    </tr>\n    <tr>\n      <th>P00110742</th>\n      <td>1612</td>\n      <td>16577.114764</td>\n    </tr>\n    <tr>\n      <th>P00112142</th>\n      <td>1562</td>\n      <td>15503.204866</td>\n    </tr>\n    <tr>\n      <th>P00057642</th>\n      <td>1470</td>\n      <td>15716.176871</td>\n    </tr>\n    <tr>\n      <th>P00184942</th>\n      <td>1440</td>\n      <td>16899.227083</td>\n    </tr>\n    <tr>\n      <th>P00046742</th>\n      <td>1438</td>\n      <td>14709.931850</td>\n    </tr>\n    <tr>\n      <th>P00058042</th>\n      <td>1422</td>\n      <td>8615.073136</td>\n    </tr>\n    <tr>\n      <th>P00059442</th>\n      <td>1406</td>\n      <td>17310.343528</td>\n    </tr>\n    <tr>\n      <th>P00145042</th>\n      <td>1406</td>\n      <td>14517.312945</td>\n    </tr>\n    <tr>\n      <th>P00086242</th>\n      <td>273</td>\n      <td>21256.505495</td>\n    </tr>\n    <tr>\n      <th>P00085342</th>\n      <td>552</td>\n      <td>20980.268116</td>\n    </tr>\n    <tr>\n      <th>P00200642</th>\n      <td>269</td>\n      <td>20468.773234</td>\n    </tr>\n    <tr>\n      <th>P00116142</th>\n      <td>642</td>\n      <td>20463.791277</td>\n    </tr>\n    <tr>\n      <th>P00119342</th>\n      <td>308</td>\n      <td>20448.756494</td>\n    </tr>\n    <tr>\n      <th>P00117642</th>\n      <td>395</td>\n      <td>20400.283544</td>\n    </tr>\n    <tr>\n      <th>P00074542</th>\n      <td>1</td>\n      <td>20323.000000</td>\n    </tr>\n    <tr>\n      <th>P00341542</th>\n      <td>1</td>\n      <td>20291.000000</td>\n    </tr>\n    <tr>\n      <th>P00052842</th>\n      <td>982</td>\n      <td>20141.139511</td>\n    </tr>\n    <tr>\n      <th>P00087042</th>\n      <td>240</td>\n      <td>20113.225000</td>\n    </tr>\n  </tbody>\n</table>\n</div>"
     },
     "metadata": {},
     "execution_count": 67
    }
   ],
   "source": [
    "# top 5 products\n",
    "\n",
    "top_products = (train_df[['Product_ID', 'Purchase']]\n",
    "            .groupby('Product_ID')\n",
    "            .agg(['count', 'mean'])\n",
    "            .rename(columns={'count':'Num_Buyers', 'mean':'Avg_Purchase_Amt'}))\n",
    "top_products.columns = top_products.columns.droplevel(0)\n",
    "\n",
    "# products that don't end in 42 have very low purchase amount\n",
    "# train_df[~train_df['Product_ID'].str.endswith('42')]['Purchase'].mean()\n",
    "\n",
    "pd.concat([top_products.nlargest(10, 'Num_Buyers'), top_products.nlargest(10, 'Avg_Purchase_Amt')])"
   ]
  },
  {
   "cell_type": "code",
   "execution_count": 21,
   "metadata": {},
   "outputs": [
    {
     "output_type": "execute_result",
     "data": {
      "text/plain": "      Purchase             \n         count         mean\nAge                        \n0-17     15102  8933.464640\n18-25    99660  9169.663606\n26-35   219587  9252.690633\n36-45   110013  9331.350695\n46-50    45701  9208.625697\n51-55    38501  9534.808031\n55+      21504  9336.280459",
      "text/html": "<div>\n<style scoped>\n    .dataframe tbody tr th:only-of-type {\n        vertical-align: middle;\n    }\n\n    .dataframe tbody tr th {\n        vertical-align: top;\n    }\n\n    .dataframe thead tr th {\n        text-align: left;\n    }\n\n    .dataframe thead tr:last-of-type th {\n        text-align: right;\n    }\n</style>\n<table border=\"1\" class=\"dataframe\">\n  <thead>\n    <tr>\n      <th></th>\n      <th colspan=\"2\" halign=\"left\">Purchase</th>\n    </tr>\n    <tr>\n      <th></th>\n      <th>count</th>\n      <th>mean</th>\n    </tr>\n    <tr>\n      <th>Age</th>\n      <th></th>\n      <th></th>\n    </tr>\n  </thead>\n  <tbody>\n    <tr>\n      <th>0-17</th>\n      <td>15102</td>\n      <td>8933.464640</td>\n    </tr>\n    <tr>\n      <th>18-25</th>\n      <td>99660</td>\n      <td>9169.663606</td>\n    </tr>\n    <tr>\n      <th>26-35</th>\n      <td>219587</td>\n      <td>9252.690633</td>\n    </tr>\n    <tr>\n      <th>36-45</th>\n      <td>110013</td>\n      <td>9331.350695</td>\n    </tr>\n    <tr>\n      <th>46-50</th>\n      <td>45701</td>\n      <td>9208.625697</td>\n    </tr>\n    <tr>\n      <th>51-55</th>\n      <td>38501</td>\n      <td>9534.808031</td>\n    </tr>\n    <tr>\n      <th>55+</th>\n      <td>21504</td>\n      <td>9336.280459</td>\n    </tr>\n  </tbody>\n</table>\n</div>"
     },
     "metadata": {},
     "execution_count": 21
    }
   ],
   "source": [
    "# Age demographic by number of purchases and $ purchases\n",
    "age_summary = train_df[['Age', 'Purchase']].groupby('Age', as_index=False).agg(['count', 'mean'])\n",
    "age_summary"
   ]
  },
  {
   "cell_type": "code",
   "execution_count": 35,
   "metadata": {},
   "outputs": [
    {
     "output_type": "execute_result",
     "data": {
      "text/plain": "           Purchase             \n              count         mean\nOccupation                      \n0             69638  9124.428588\n1             47426  8953.193270\n2             26588  8952.481683\n3             17650  9178.593088\n4             72308  9213.980251\n5             12177  9333.149298\n6             20355  9256.535691\n7             59133  9425.728223\n8              1546  9532.592497\n9              6291  8637.743761\n10            12930  8959.355375\n11            11586  9213.845848\n12            31179  9796.640239\n13             7728  9306.351061\n14            27309  9500.702772\n15            12165  9778.891163\n16            25371  9394.464349\n17            40043  9821.478236\n18             6622  9169.655844\n19             8461  8710.627231\n20            33562  8836.494905",
      "text/html": "<div>\n<style scoped>\n    .dataframe tbody tr th:only-of-type {\n        vertical-align: middle;\n    }\n\n    .dataframe tbody tr th {\n        vertical-align: top;\n    }\n\n    .dataframe thead tr th {\n        text-align: left;\n    }\n\n    .dataframe thead tr:last-of-type th {\n        text-align: right;\n    }\n</style>\n<table border=\"1\" class=\"dataframe\">\n  <thead>\n    <tr>\n      <th></th>\n      <th colspan=\"2\" halign=\"left\">Purchase</th>\n    </tr>\n    <tr>\n      <th></th>\n      <th>count</th>\n      <th>mean</th>\n    </tr>\n    <tr>\n      <th>Occupation</th>\n      <th></th>\n      <th></th>\n    </tr>\n  </thead>\n  <tbody>\n    <tr>\n      <th>0</th>\n      <td>69638</td>\n      <td>9124.428588</td>\n    </tr>\n    <tr>\n      <th>1</th>\n      <td>47426</td>\n      <td>8953.193270</td>\n    </tr>\n    <tr>\n      <th>2</th>\n      <td>26588</td>\n      <td>8952.481683</td>\n    </tr>\n    <tr>\n      <th>3</th>\n      <td>17650</td>\n      <td>9178.593088</td>\n    </tr>\n    <tr>\n      <th>4</th>\n      <td>72308</td>\n      <td>9213.980251</td>\n    </tr>\n    <tr>\n      <th>5</th>\n      <td>12177</td>\n      <td>9333.149298</td>\n    </tr>\n    <tr>\n      <th>6</th>\n      <td>20355</td>\n      <td>9256.535691</td>\n    </tr>\n    <tr>\n      <th>7</th>\n      <td>59133</td>\n      <td>9425.728223</td>\n    </tr>\n    <tr>\n      <th>8</th>\n      <td>1546</td>\n      <td>9532.592497</td>\n    </tr>\n    <tr>\n      <th>9</th>\n      <td>6291</td>\n      <td>8637.743761</td>\n    </tr>\n    <tr>\n      <th>10</th>\n      <td>12930</td>\n      <td>8959.355375</td>\n    </tr>\n    <tr>\n      <th>11</th>\n      <td>11586</td>\n      <td>9213.845848</td>\n    </tr>\n    <tr>\n      <th>12</th>\n      <td>31179</td>\n      <td>9796.640239</td>\n    </tr>\n    <tr>\n      <th>13</th>\n      <td>7728</td>\n      <td>9306.351061</td>\n    </tr>\n    <tr>\n      <th>14</th>\n      <td>27309</td>\n      <td>9500.702772</td>\n    </tr>\n    <tr>\n      <th>15</th>\n      <td>12165</td>\n      <td>9778.891163</td>\n    </tr>\n    <tr>\n      <th>16</th>\n      <td>25371</td>\n      <td>9394.464349</td>\n    </tr>\n    <tr>\n      <th>17</th>\n      <td>40043</td>\n      <td>9821.478236</td>\n    </tr>\n    <tr>\n      <th>18</th>\n      <td>6622</td>\n      <td>9169.655844</td>\n    </tr>\n    <tr>\n      <th>19</th>\n      <td>8461</td>\n      <td>8710.627231</td>\n    </tr>\n    <tr>\n      <th>20</th>\n      <td>33562</td>\n      <td>8836.494905</td>\n    </tr>\n  </tbody>\n</table>\n</div>"
     },
     "metadata": {},
     "execution_count": 35
    }
   ],
   "source": [
    "# top 5 occupations\n",
    "occupation_summary = train_df[['Occupation', 'Purchase']].groupby('Occupation', as_index=False).agg(['count', 'mean'])\n",
    "occupation_summary"
   ]
  },
  {
   "cell_type": "code",
   "execution_count": 64,
   "metadata": {},
   "outputs": [
    {
     "output_type": "execute_result",
     "data": {
      "text/plain": "              Purchase             \n                 count         mean\nCity_Category                      \nA               147720  8911.939216\nB               231173  9151.300563\nC               171175  9719.920993",
      "text/html": "<div>\n<style scoped>\n    .dataframe tbody tr th:only-of-type {\n        vertical-align: middle;\n    }\n\n    .dataframe tbody tr th {\n        vertical-align: top;\n    }\n\n    .dataframe thead tr th {\n        text-align: left;\n    }\n\n    .dataframe thead tr:last-of-type th {\n        text-align: right;\n    }\n</style>\n<table border=\"1\" class=\"dataframe\">\n  <thead>\n    <tr>\n      <th></th>\n      <th colspan=\"2\" halign=\"left\">Purchase</th>\n    </tr>\n    <tr>\n      <th></th>\n      <th>count</th>\n      <th>mean</th>\n    </tr>\n    <tr>\n      <th>City_Category</th>\n      <th></th>\n      <th></th>\n    </tr>\n  </thead>\n  <tbody>\n    <tr>\n      <th>A</th>\n      <td>147720</td>\n      <td>8911.939216</td>\n    </tr>\n    <tr>\n      <th>B</th>\n      <td>231173</td>\n      <td>9151.300563</td>\n    </tr>\n    <tr>\n      <th>C</th>\n      <td>171175</td>\n      <td>9719.920993</td>\n    </tr>\n  </tbody>\n</table>\n</div>"
     },
     "metadata": {},
     "execution_count": 64
    }
   ],
   "source": [
    "# cities\n",
    "cities_summary = train_df[['City_Category', 'Purchase']].groupby('City_Category').agg(['count', 'mean'])\n",
    "cities_summary"
   ]
  },
  {
   "cell_type": "code",
   "execution_count": 65,
   "metadata": {},
   "outputs": [
    {
     "output_type": "execute_result",
     "data": {
      "text/plain": "                           Purchase             \n                              count         mean\nStay_In_Current_City_Years                      \n0                             74398  9180.075123\n1                            193821  9250.145923\n2                            101838  9320.429810\n3                             95285  9286.904119\n4+                            84726  9275.598872",
      "text/html": "<div>\n<style scoped>\n    .dataframe tbody tr th:only-of-type {\n        vertical-align: middle;\n    }\n\n    .dataframe tbody tr th {\n        vertical-align: top;\n    }\n\n    .dataframe thead tr th {\n        text-align: left;\n    }\n\n    .dataframe thead tr:last-of-type th {\n        text-align: right;\n    }\n</style>\n<table border=\"1\" class=\"dataframe\">\n  <thead>\n    <tr>\n      <th></th>\n      <th colspan=\"2\" halign=\"left\">Purchase</th>\n    </tr>\n    <tr>\n      <th></th>\n      <th>count</th>\n      <th>mean</th>\n    </tr>\n    <tr>\n      <th>Stay_In_Current_City_Years</th>\n      <th></th>\n      <th></th>\n    </tr>\n  </thead>\n  <tbody>\n    <tr>\n      <th>0</th>\n      <td>74398</td>\n      <td>9180.075123</td>\n    </tr>\n    <tr>\n      <th>1</th>\n      <td>193821</td>\n      <td>9250.145923</td>\n    </tr>\n    <tr>\n      <th>2</th>\n      <td>101838</td>\n      <td>9320.429810</td>\n    </tr>\n    <tr>\n      <th>3</th>\n      <td>95285</td>\n      <td>9286.904119</td>\n    </tr>\n    <tr>\n      <th>4+</th>\n      <td>84726</td>\n      <td>9275.598872</td>\n    </tr>\n  </tbody>\n</table>\n</div>"
     },
     "metadata": {},
     "execution_count": 65
    }
   ],
   "source": [
    "# Residential term\n",
    "term_summary = train_df[['Stay_In_Current_City_Years', 'Purchase']].groupby('Stay_In_Current_City_Years').agg(['count', 'mean'])\n",
    "term_summary"
   ]
  },
  {
   "cell_type": "code",
   "execution_count": 68,
   "metadata": {},
   "outputs": [
    {
     "output_type": "execute_result",
     "data": {
      "text/plain": "       Purchase             \n          count         mean\nGender                      \nF        135809  8734.565765\nM        414259  9437.526040",
      "text/html": "<div>\n<style scoped>\n    .dataframe tbody tr th:only-of-type {\n        vertical-align: middle;\n    }\n\n    .dataframe tbody tr th {\n        vertical-align: top;\n    }\n\n    .dataframe thead tr th {\n        text-align: left;\n    }\n\n    .dataframe thead tr:last-of-type th {\n        text-align: right;\n    }\n</style>\n<table border=\"1\" class=\"dataframe\">\n  <thead>\n    <tr>\n      <th></th>\n      <th colspan=\"2\" halign=\"left\">Purchase</th>\n    </tr>\n    <tr>\n      <th></th>\n      <th>count</th>\n      <th>mean</th>\n    </tr>\n    <tr>\n      <th>Gender</th>\n      <th></th>\n      <th></th>\n    </tr>\n  </thead>\n  <tbody>\n    <tr>\n      <th>F</th>\n      <td>135809</td>\n      <td>8734.565765</td>\n    </tr>\n    <tr>\n      <th>M</th>\n      <td>414259</td>\n      <td>9437.526040</td>\n    </tr>\n  </tbody>\n</table>\n</div>"
     },
     "metadata": {},
     "execution_count": 68
    }
   ],
   "source": [
    "# Gender\n",
    "gender_summary = train_df[['Gender', 'Purchase']].groupby('Gender').agg(['count', 'mean'])\n",
    "gender_summary"
   ]
  },
  {
   "source": [
    "## Visualizations"
   ],
   "cell_type": "markdown",
   "metadata": {}
  },
  {
   "cell_type": "code",
   "execution_count": 13,
   "metadata": {},
   "outputs": [],
   "source": [
    "import matplotlib.pyplot as plt\n",
    "import seaborn as sns"
   ]
  },
  {
   "source": [
    "## Identifying data issues"
   ],
   "cell_type": "markdown",
   "metadata": {}
  },
  {
   "source": [
    "## ETL"
   ],
   "cell_type": "markdown",
   "metadata": {}
  },
  {
   "source": [
    "### Handle NULLs"
   ],
   "cell_type": "markdown",
   "metadata": {}
  },
  {
   "source": [
    "### Transform column to categorical or use one-hot encoding"
   ],
   "cell_type": "markdown",
   "metadata": {}
  },
  {
   "cell_type": "code",
   "execution_count": 14,
   "metadata": {},
   "outputs": [],
   "source": [
    "# useful links:\n",
    "\n",
    "# https://www.datacamp.com/community/tutorials/categorical-data"
   ]
  }
 ]
}
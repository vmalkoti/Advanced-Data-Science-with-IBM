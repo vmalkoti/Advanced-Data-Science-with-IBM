{
 "metadata": {
  "language_info": {
   "codemirror_mode": {
    "name": "ipython",
    "version": 3
   },
   "file_extension": ".py",
   "mimetype": "text/x-python",
   "name": "python",
   "nbconvert_exporter": "python",
   "pygments_lexer": "ipython3",
   "version": "3.8.2-final"
  },
  "orig_nbformat": 2,
  "kernelspec": {
   "name": "python3",
   "display_name": "Python 3"
  }
 },
 "nbformat": 4,
 "nbformat_minor": 2,
 "cells": [
  {
   "source": [
    "# Retail Sales Prediction "
   ],
   "cell_type": "markdown",
   "metadata": {}
  },
  {
   "source": [
    "## Project Summary\n",
    "\n",
    "This is the capstone project for Advanced Data Science With IBM specialization on Coursera (https://www.coursera.org/learn/advanced-data-science-capstone/home/welcome).\n",
    "\n",
    "This project demonstrates the technical skills gained in data science and machine learning technologies. This project uses:\n",
    "* Python 3.6+\n",
    "* Jupyter notebook environment\n",
    "* Libraries: \n",
    "  * Numerical - numpy, pandas\n",
    "  * Visualization - matplotlib, seaborn\n",
    "  * ML - Scikit-Learn\n",
    "  * NN - Keras, Tensorflow\n"
   ],
   "cell_type": "markdown",
   "metadata": {}
  },
  {
   "source": [
    "### Problem Statement\n",
    "A retail company wants to understand the customer purchase behaviour (specifically, purchase amount) against various products of different categories. They have shared purchase summary of various customers for selected high volume products from last month.\n",
    "The data set also contains customer demographics (age, gender, marital status, city_type, stay_in_current_city), product details (product_id and product category) and Total purchase_amount from last month.\n",
    "\n",
    "Now, they want to build a model to predict the purchase amount of customer against various products which will help them to create personalized offer for customers against different products.\n",
    "\n",
    "### Data Source\n",
    "https://datahack.analyticsvidhya.com/contest/black-friday/"
   ],
   "cell_type": "markdown",
   "metadata": {}
  },
  {
   "cell_type": "code",
   "execution_count": 1,
   "metadata": {},
   "outputs": [],
   "source": [
    "## imports\n",
    "\n",
    "import numpy as np\n",
    "import pandas as pd\n",
    "from sklearn.linear_model import LinearRegression"
   ]
  },
  {
   "source": [
    "## Initial Data Exploration"
   ],
   "cell_type": "markdown",
   "metadata": {}
  },
  {
   "source": [
    "### Read data\n",
    "Read the data from input csv file"
   ],
   "cell_type": "markdown",
   "metadata": {}
  },
  {
   "cell_type": "code",
   "execution_count": 2,
   "metadata": {},
   "outputs": [
    {
     "output_type": "execute_result",
     "data": {
      "text/plain": "   User_ID Product_ID Gender   Age  Occupation City_Category  \\\n0  1000001  P00069042      F  0-17          10             A   \n1  1000001  P00248942      F  0-17          10             A   \n2  1000001  P00087842      F  0-17          10             A   \n3  1000001  P00085442      F  0-17          10             A   \n4  1000002  P00285442      M   55+          16             C   \n\n  Stay_In_Current_City_Years  Marital_Status  Product_Category_1  \\\n0                          2               0                   3   \n1                          2               0                   1   \n2                          2               0                  12   \n3                          2               0                  12   \n4                         4+               0                   8   \n\n   Product_Category_2  Product_Category_3  Purchase  \n0                 NaN                 NaN      8370  \n1                 6.0                14.0     15200  \n2                 NaN                 NaN      1422  \n3                14.0                 NaN      1057  \n4                 NaN                 NaN      7969  ",
      "text/html": "<div>\n<style scoped>\n    .dataframe tbody tr th:only-of-type {\n        vertical-align: middle;\n    }\n\n    .dataframe tbody tr th {\n        vertical-align: top;\n    }\n\n    .dataframe thead th {\n        text-align: right;\n    }\n</style>\n<table border=\"1\" class=\"dataframe\">\n  <thead>\n    <tr style=\"text-align: right;\">\n      <th></th>\n      <th>User_ID</th>\n      <th>Product_ID</th>\n      <th>Gender</th>\n      <th>Age</th>\n      <th>Occupation</th>\n      <th>City_Category</th>\n      <th>Stay_In_Current_City_Years</th>\n      <th>Marital_Status</th>\n      <th>Product_Category_1</th>\n      <th>Product_Category_2</th>\n      <th>Product_Category_3</th>\n      <th>Purchase</th>\n    </tr>\n  </thead>\n  <tbody>\n    <tr>\n      <th>0</th>\n      <td>1000001</td>\n      <td>P00069042</td>\n      <td>F</td>\n      <td>0-17</td>\n      <td>10</td>\n      <td>A</td>\n      <td>2</td>\n      <td>0</td>\n      <td>3</td>\n      <td>NaN</td>\n      <td>NaN</td>\n      <td>8370</td>\n    </tr>\n    <tr>\n      <th>1</th>\n      <td>1000001</td>\n      <td>P00248942</td>\n      <td>F</td>\n      <td>0-17</td>\n      <td>10</td>\n      <td>A</td>\n      <td>2</td>\n      <td>0</td>\n      <td>1</td>\n      <td>6.0</td>\n      <td>14.0</td>\n      <td>15200</td>\n    </tr>\n    <tr>\n      <th>2</th>\n      <td>1000001</td>\n      <td>P00087842</td>\n      <td>F</td>\n      <td>0-17</td>\n      <td>10</td>\n      <td>A</td>\n      <td>2</td>\n      <td>0</td>\n      <td>12</td>\n      <td>NaN</td>\n      <td>NaN</td>\n      <td>1422</td>\n    </tr>\n    <tr>\n      <th>3</th>\n      <td>1000001</td>\n      <td>P00085442</td>\n      <td>F</td>\n      <td>0-17</td>\n      <td>10</td>\n      <td>A</td>\n      <td>2</td>\n      <td>0</td>\n      <td>12</td>\n      <td>14.0</td>\n      <td>NaN</td>\n      <td>1057</td>\n    </tr>\n    <tr>\n      <th>4</th>\n      <td>1000002</td>\n      <td>P00285442</td>\n      <td>M</td>\n      <td>55+</td>\n      <td>16</td>\n      <td>C</td>\n      <td>4+</td>\n      <td>0</td>\n      <td>8</td>\n      <td>NaN</td>\n      <td>NaN</td>\n      <td>7969</td>\n    </tr>\n  </tbody>\n</table>\n</div>"
     },
     "metadata": {},
     "execution_count": 2
    }
   ],
   "source": [
    "train_df = pd.read_csv('./BFS/Dataset/train.csv')\n",
    "train_df.head()"
   ]
  },
  {
   "source": [
    "### Getting familiar with data\n",
    "Explore the data in the dataframe to identify cleanup and transformation needed later"
   ],
   "cell_type": "markdown",
   "metadata": {}
  },
  {
   "cell_type": "code",
   "execution_count": 7,
   "metadata": {
    "tags": []
   },
   "outputs": [
    {
     "output_type": "stream",
     "name": "stdout",
     "text": "<class 'pandas.core.frame.DataFrame'>\nRangeIndex: 550068 entries, 0 to 550067\nData columns (total 12 columns):\n #   Column                      Non-Null Count   Dtype  \n---  ------                      --------------   -----  \n 0   User_ID                     550068 non-null  int64  \n 1   Product_ID                  550068 non-null  object \n 2   Gender                      550068 non-null  object \n 3   Age                         550068 non-null  object \n 4   Occupation                  550068 non-null  int64  \n 5   City_Category               550068 non-null  object \n 6   Stay_In_Current_City_Years  550068 non-null  object \n 7   Marital_Status              550068 non-null  int64  \n 8   Product_Category_1          550068 non-null  int64  \n 9   Product_Category_2          376430 non-null  float64\n 10  Product_Category_3          166821 non-null  float64\n 11  Purchase                    550068 non-null  int64  \ndtypes: float64(2), int64(5), object(5)\nmemory usage: 50.4+ MB\n"
    }
   ],
   "source": [
    "train_df.info()"
   ]
  },
  {
   "cell_type": "code",
   "execution_count": 29,
   "metadata": {},
   "outputs": [
    {
     "output_type": "execute_result",
     "data": {
      "text/plain": "       Product_ID  Gender     Age     Occupation City_Category  \\\ncount      550068  550068  550068  550068.000000        550068   \nunique       3631       2       7            NaN             3   \ntop     P00265242       M   26-35            NaN             B   \nfreq         1880  414259  219587            NaN        231173   \nmean          NaN     NaN     NaN       8.076707           NaN   \nstd           NaN     NaN     NaN       6.522660           NaN   \nmin           NaN     NaN     NaN       0.000000           NaN   \n25%           NaN     NaN     NaN       2.000000           NaN   \n50%           NaN     NaN     NaN       7.000000           NaN   \n75%           NaN     NaN     NaN      14.000000           NaN   \nmax           NaN     NaN     NaN      20.000000           NaN   \n\n       Stay_In_Current_City_Years  Marital_Status  Product_Category_1  \\\ncount                      550068   550068.000000       550068.000000   \nunique                          5             NaN                 NaN   \ntop                             1             NaN                 NaN   \nfreq                       193821             NaN                 NaN   \nmean                          NaN        0.409653            5.404270   \nstd                           NaN        0.491770            3.936211   \nmin                           NaN        0.000000            1.000000   \n25%                           NaN        0.000000            1.000000   \n50%                           NaN        0.000000            5.000000   \n75%                           NaN        1.000000            8.000000   \nmax                           NaN        1.000000           20.000000   \n\n        Product_Category_2  Product_Category_3       Purchase  \ncount        376430.000000       166821.000000  550068.000000  \nunique                 NaN                 NaN            NaN  \ntop                    NaN                 NaN            NaN  \nfreq                   NaN                 NaN            NaN  \nmean              9.842329           12.668243    9263.968713  \nstd               5.086590            4.125338    5023.065394  \nmin               2.000000            3.000000      12.000000  \n25%               5.000000            9.000000    5823.000000  \n50%               9.000000           14.000000    8047.000000  \n75%              15.000000           16.000000   12054.000000  \nmax              18.000000           18.000000   23961.000000  ",
      "text/html": "<div>\n<style scoped>\n    .dataframe tbody tr th:only-of-type {\n        vertical-align: middle;\n    }\n\n    .dataframe tbody tr th {\n        vertical-align: top;\n    }\n\n    .dataframe thead th {\n        text-align: right;\n    }\n</style>\n<table border=\"1\" class=\"dataframe\">\n  <thead>\n    <tr style=\"text-align: right;\">\n      <th></th>\n      <th>Product_ID</th>\n      <th>Gender</th>\n      <th>Age</th>\n      <th>Occupation</th>\n      <th>City_Category</th>\n      <th>Stay_In_Current_City_Years</th>\n      <th>Marital_Status</th>\n      <th>Product_Category_1</th>\n      <th>Product_Category_2</th>\n      <th>Product_Category_3</th>\n      <th>Purchase</th>\n    </tr>\n  </thead>\n  <tbody>\n    <tr>\n      <th>count</th>\n      <td>550068</td>\n      <td>550068</td>\n      <td>550068</td>\n      <td>550068.000000</td>\n      <td>550068</td>\n      <td>550068</td>\n      <td>550068.000000</td>\n      <td>550068.000000</td>\n      <td>376430.000000</td>\n      <td>166821.000000</td>\n      <td>550068.000000</td>\n    </tr>\n    <tr>\n      <th>unique</th>\n      <td>3631</td>\n      <td>2</td>\n      <td>7</td>\n      <td>NaN</td>\n      <td>3</td>\n      <td>5</td>\n      <td>NaN</td>\n      <td>NaN</td>\n      <td>NaN</td>\n      <td>NaN</td>\n      <td>NaN</td>\n    </tr>\n    <tr>\n      <th>top</th>\n      <td>P00265242</td>\n      <td>M</td>\n      <td>26-35</td>\n      <td>NaN</td>\n      <td>B</td>\n      <td>1</td>\n      <td>NaN</td>\n      <td>NaN</td>\n      <td>NaN</td>\n      <td>NaN</td>\n      <td>NaN</td>\n    </tr>\n    <tr>\n      <th>freq</th>\n      <td>1880</td>\n      <td>414259</td>\n      <td>219587</td>\n      <td>NaN</td>\n      <td>231173</td>\n      <td>193821</td>\n      <td>NaN</td>\n      <td>NaN</td>\n      <td>NaN</td>\n      <td>NaN</td>\n      <td>NaN</td>\n    </tr>\n    <tr>\n      <th>mean</th>\n      <td>NaN</td>\n      <td>NaN</td>\n      <td>NaN</td>\n      <td>8.076707</td>\n      <td>NaN</td>\n      <td>NaN</td>\n      <td>0.409653</td>\n      <td>5.404270</td>\n      <td>9.842329</td>\n      <td>12.668243</td>\n      <td>9263.968713</td>\n    </tr>\n    <tr>\n      <th>std</th>\n      <td>NaN</td>\n      <td>NaN</td>\n      <td>NaN</td>\n      <td>6.522660</td>\n      <td>NaN</td>\n      <td>NaN</td>\n      <td>0.491770</td>\n      <td>3.936211</td>\n      <td>5.086590</td>\n      <td>4.125338</td>\n      <td>5023.065394</td>\n    </tr>\n    <tr>\n      <th>min</th>\n      <td>NaN</td>\n      <td>NaN</td>\n      <td>NaN</td>\n      <td>0.000000</td>\n      <td>NaN</td>\n      <td>NaN</td>\n      <td>0.000000</td>\n      <td>1.000000</td>\n      <td>2.000000</td>\n      <td>3.000000</td>\n      <td>12.000000</td>\n    </tr>\n    <tr>\n      <th>25%</th>\n      <td>NaN</td>\n      <td>NaN</td>\n      <td>NaN</td>\n      <td>2.000000</td>\n      <td>NaN</td>\n      <td>NaN</td>\n      <td>0.000000</td>\n      <td>1.000000</td>\n      <td>5.000000</td>\n      <td>9.000000</td>\n      <td>5823.000000</td>\n    </tr>\n    <tr>\n      <th>50%</th>\n      <td>NaN</td>\n      <td>NaN</td>\n      <td>NaN</td>\n      <td>7.000000</td>\n      <td>NaN</td>\n      <td>NaN</td>\n      <td>0.000000</td>\n      <td>5.000000</td>\n      <td>9.000000</td>\n      <td>14.000000</td>\n      <td>8047.000000</td>\n    </tr>\n    <tr>\n      <th>75%</th>\n      <td>NaN</td>\n      <td>NaN</td>\n      <td>NaN</td>\n      <td>14.000000</td>\n      <td>NaN</td>\n      <td>NaN</td>\n      <td>1.000000</td>\n      <td>8.000000</td>\n      <td>15.000000</td>\n      <td>16.000000</td>\n      <td>12054.000000</td>\n    </tr>\n    <tr>\n      <th>max</th>\n      <td>NaN</td>\n      <td>NaN</td>\n      <td>NaN</td>\n      <td>20.000000</td>\n      <td>NaN</td>\n      <td>NaN</td>\n      <td>1.000000</td>\n      <td>20.000000</td>\n      <td>18.000000</td>\n      <td>18.000000</td>\n      <td>23961.000000</td>\n    </tr>\n  </tbody>\n</table>\n</div>"
     },
     "metadata": {},
     "execution_count": 29
    }
   ],
   "source": [
    "# Exclude User_ID from describe\n",
    "train_df.iloc[:,1:].describe(include='all')"
   ]
  },
  {
   "cell_type": "code",
   "execution_count": 26,
   "metadata": {
    "tags": []
   },
   "outputs": [
    {
     "output_type": "stream",
     "name": "stdout",
     "text": "Gender -> ['F' 'M']\nAge -> ['0-17' '55+' '26-35' '46-50' '51-55' '36-45' '18-25']\nOccupation -> [10 16 15  7 20  9  1 12 17  0  3  4 11  8 19  2 18  5 14 13  6]\nCity_Category -> ['A' 'C' 'B']\nStay_In_Current_City_Years -> ['2' '4+' '3' '1' '0']\nMarital_Status -> [0 1]\n"
    }
   ],
   "source": [
    "col_list = [\"Gender\", 'Age', 'Occupation', 'City_Category', 'Stay_In_Current_City_Years', 'Marital_Status']\n",
    "for col in col_list:\n",
    "    print(f'{col} -> {train_df[col].unique()}')"
   ]
  },
  {
   "cell_type": "code",
   "execution_count": null,
   "metadata": {},
   "outputs": [],
   "source": [
    "# Explore \n",
    "\n",
    "# top 10 customers - most number of purchases, most $ purchases\n",
    "# top 5 products\n",
    "# Age demographic by number of purchases and $ purchases\n",
    "# top 5 occupations\n",
    "# top cities"
   ]
  },
  {
   "source": [
    "## Visualizations"
   ],
   "cell_type": "markdown",
   "metadata": {}
  },
  {
   "cell_type": "code",
   "execution_count": null,
   "metadata": {},
   "outputs": [],
   "source": [
    "import matplotlib.pyplot as plt\n",
    "import seaborn as sns"
   ]
  },
  {
   "source": [
    "## Identifying data issues"
   ],
   "cell_type": "markdown",
   "metadata": {}
  },
  {
   "source": [
    "## ETL"
   ],
   "cell_type": "markdown",
   "metadata": {}
  },
  {
   "source": [
    "### Handle NULLs"
   ],
   "cell_type": "markdown",
   "metadata": {}
  },
  {
   "source": [
    "### Transform column to categorical or use one-hot encoding"
   ],
   "cell_type": "markdown",
   "metadata": {}
  }
 ]
}